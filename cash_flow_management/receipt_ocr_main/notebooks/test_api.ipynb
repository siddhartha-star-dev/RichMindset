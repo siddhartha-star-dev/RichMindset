{
 "cells": [
  {
   "cell_type": "code",
   "execution_count": 1,
   "id": "specific-pulse",
   "metadata": {},
   "outputs": [],
   "source": [
    "import requests\n",
    "import json\n",
    "import base64\n",
    "import numpy as np"
   ]
  },
  {
   "cell_type": "code",
   "execution_count": 2,
   "id": "earned-missouri",
   "metadata": {},
   "outputs": [],
   "source": [
    "image_file = '../data/tes.jpg'\n",
    "\n",
    "with open(image_file, \"rb\") as f:\n",
    "    im_bytes = f.read()\n",
    "\n",
    "im_b64 = base64.b64encode(im_bytes).decode('utf-8')"
   ]
  },
  {
   "cell_type": "code",
   "execution_count": 3,
   "id": "afraid-cheese",
   "metadata": {},
   "outputs": [],
   "source": [
    "data = {\"image\": im_b64}\n",
    "payload = json.dumps(data)"
   ]
  },
  {
   "cell_type": "code",
   "execution_count": 4,
   "id": "acquired-factory",
   "metadata": {},
   "outputs": [],
   "source": [
    "api_endpoint = \"http://127.0.0.1:8000/ocr/predict\"\n",
    "headers = {'content-type': 'application/json'}\n",
    "\n",
    "response = requests.request(\"POST\", api_endpoint, data=payload, headers=headers)"
   ]
  },
  {
   "cell_type": "code",
   "execution_count": 5,
   "id": "turned-queue",
   "metadata": {},
   "outputs": [
    {
     "data": {
      "text/plain": [
       "200"
      ]
     },
     "execution_count": 5,
     "metadata": {},
     "output_type": "execute_result"
    }
   ],
   "source": [
    "response.status_code"
   ]
  },
  {
   "cell_type": "code",
   "execution_count": 6,
   "id": "hindu-diagnosis",
   "metadata": {},
   "outputs": [
    {
     "data": {
      "text/plain": [
       "['Geprek Bensu Kopo Bandung',\n",
       " 'J1, Kopo No. 536, Margasuka, Babakan Ciparay',\n",
       " 'KOTA BANDUNG',\n",
       " 'order: 33',\n",
       " 'Kode',\n",
       " 'Tanggal 16-07-2021 11:53:47',\n",
       " 'Kasiri Kasir 1 Kopo BDG',\n",
       " 'Pelanggant gjk wahyu',\n",
       " 'Paket Geprek Bensu Nasi Daun Jeruk GOFOO',\n",
       " 'D Level I X 27',\n",
       " 't Harga (27',\n",
       " 'Dada X',\n",
       " 'Ayam Geprek Bensu GOFOOD Original X 17.500',\n",
       " 'Harga (17',\n",
       " '+ Dada X',\n",
       " 'Take Away Charge X 4.000',\n",
       " 'Subtotal 49.000',\n",
       " 'PB1 (10%) 4.500',\n",
       " 'Total 53,500',\n",
       " 'Gobiz 53.500',\n",
       " 'Kembal Ii',\n",
       " 'LUNAS *x',\n",
       " 'Terima Kasih']"
      ]
     },
     "execution_count": 6,
     "metadata": {},
     "output_type": "execute_result"
    }
   ],
   "source": [
    "response.json()"
   ]
  },
  {
   "cell_type": "code",
   "execution_count": null,
   "id": "coordinate-trouble",
   "metadata": {},
   "outputs": [],
   "source": []
  }
 ],
 "metadata": {
  "kernelspec": {
   "display_name": "Python 3",
   "language": "python",
   "name": "python3"
  },
  "language_info": {
   "codemirror_mode": {
    "name": "ipython",
    "version": 3
   },
   "file_extension": ".py",
   "mimetype": "text/x-python",
   "name": "python",
   "nbconvert_exporter": "python",
   "pygments_lexer": "ipython3",
   "version": "3.8.3"
  }
 },
 "nbformat": 4,
 "nbformat_minor": 5
}
