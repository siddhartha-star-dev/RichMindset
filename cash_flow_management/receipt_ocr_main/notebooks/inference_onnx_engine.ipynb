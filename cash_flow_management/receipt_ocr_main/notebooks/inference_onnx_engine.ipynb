{
 "cells": [
  {
   "cell_type": "code",
   "execution_count": 1,
   "id": "false-shipping",
   "metadata": {},
   "outputs": [],
   "source": [
    "import sys\n",
    "import io\n",
    "import base64\n",
    "import numpy as np\n",
    "import warnings\n",
    "from PIL import Image\n",
    "\n",
    "warnings.filterwarnings(\"ignore\")\n",
    "sys.path.append('..')\n",
    "\n",
    "from src.model import ONNXModel\n",
    "from src.engine import ONNXEngine"
   ]
  },
  {
   "cell_type": "markdown",
   "id": "automated-graduation",
   "metadata": {},
   "source": [
    "## Load model network and weight"
   ]
  },
  {
   "cell_type": "code",
   "execution_count": 2,
   "id": "periodic-timothy",
   "metadata": {},
   "outputs": [],
   "source": [
    "detector_cfg = '../configs/craft_config.yaml'\n",
    "detector_model = '../models/text_detector/craft.onnx'\n",
    "recognizer_cfg = '../configs/star_config.yaml'\n",
    "recognizer_model = '../models/text_recognizer/TPS-ResNet-BiLSTM-Attn-case-sensitive.pth'"
   ]
  },
  {
   "cell_type": "code",
   "execution_count": 3,
   "id": "recovered-consortium",
   "metadata": {},
   "outputs": [
    {
     "name": "stdout",
     "output_type": "stream",
     "text": [
      "Loading weights from checkpoint (../models/text_detector/craft.onnx)\n",
      "Loading weights from checkpoint (../models/text_recognizer/TPS-ResNet-BiLSTM-Attn-case-sensitive.pth)\n"
     ]
    }
   ],
   "source": [
    "model = ONNXModel(detector_cfg, detector_model, \n",
    "                  recognizer_cfg, recognizer_model)"
   ]
  },
  {
   "cell_type": "markdown",
   "id": "inside-salon",
   "metadata": {},
   "source": [
    "## Load Engine"
   ]
  },
  {
   "cell_type": "code",
   "execution_count": 4,
   "id": "editorial-bargain",
   "metadata": {},
   "outputs": [],
   "source": [
    "engine = ONNXEngine(model)"
   ]
  },
  {
   "cell_type": "markdown",
   "id": "known-seattle",
   "metadata": {},
   "source": [
    "## Input Data Preparation"
   ]
  },
  {
   "cell_type": "code",
   "execution_count": 5,
   "id": "sonic-jacksonville",
   "metadata": {},
   "outputs": [],
   "source": [
    "image_file = '../data/tes.jpg'\n",
    "\n",
    "with open(image_file, \"rb\") as f:\n",
    "    im_bytes = f.read()\n",
    "\n",
    "im_b64 = base64.b64encode(im_bytes).decode('utf-8')"
   ]
  },
  {
   "cell_type": "code",
   "execution_count": 6,
   "id": "featured-boost",
   "metadata": {},
   "outputs": [],
   "source": [
    "img_bytes = base64.b64decode(im_b64.encode('utf-8'))\n",
    "image = Image.open(io.BytesIO(img_bytes))\n",
    "image = np.array(image)"
   ]
  },
  {
   "cell_type": "markdown",
   "id": "plain-prediction",
   "metadata": {},
   "source": [
    "## Prediction"
   ]
  },
  {
   "cell_type": "code",
   "execution_count": 7,
   "id": "biblical-davis",
   "metadata": {},
   "outputs": [
    {
     "name": "stdout",
     "output_type": "stream",
     "text": [
      "'inference_detector'  2.73 s\n",
      "'inference_recognizer'  3.43 s\n",
      "'predict'  6.17 s\n"
     ]
    }
   ],
   "source": [
    "engine.predict(image)"
   ]
  },
  {
   "cell_type": "code",
   "execution_count": 8,
   "id": "burning-jacket",
   "metadata": {
    "scrolled": true
   },
   "outputs": [
    {
     "data": {
      "text/plain": [
       "[('Kopo', tensor(0.9991), (620, 680, 481, 575)),\n",
       " ('Bandung', tensor(1.0000), (622, 673, 575, 713)),\n",
       " ('Geprek', tensor(1.0000), (626, 676, 253, 374)),\n",
       " ('Bensu', tensor(0.9999), (626, 676, 380, 481)),\n",
       " ('Babakan', tensor(0.9999), (666, 716, 602, 740)),\n",
       " ('Ciparay', tensor(0.9997), (666, 716, 743, 884)),\n",
       " ('536,', tensor(0.9938), (666, 720, 313, 397)),\n",
       " ('Margasuka,', tensor(0.9953), (669, 723, 404, 592)),\n",
       " ('J1,', tensor(0.5975), (673, 723, 85, 145)),\n",
       " ('Kopo', tensor(0.9966), (673, 723, 155, 239)),\n",
       " ('No.', tensor(0.7720), (673, 720, 246, 306)),\n",
       " ('KOTA', tensor(0.9945), (710, 763, 367, 454)),\n",
       " ('BANDUNG', tensor(0.9989), (710, 763, 458, 599)),\n",
       " ('33', tensor(0.7718), (804, 854, 246, 296)),\n",
       " ('order:', tensor(0.9085), (804, 858, 120, 240)),\n",
       " ('Kode', tensor(0.9972), (851, 901, 48, 135)),\n",
       " ('16-07-2021', tensor(0.9492), (888, 942, 212, 400)),\n",
       " ('11:53:47', tensor(0.9910), (891, 942, 411, 562)),\n",
       " ('Tanggal', tensor(0.9934), (895, 948, 51, 185)),\n",
       " ('BDG', tensor(0.9957), (931, 985, 407, 474)),\n",
       " ('Kasiri', tensor(0.5920), (938, 989, 51, 169)),\n",
       " ('Kasir', tensor(0.9999), (938, 989, 175, 279)),\n",
       " ('Kopo', tensor(0.9991), (938, 989, 316, 404)),\n",
       " ('1', tensor(0.5032), (945, 982, 286, 306)),\n",
       " ('Pelanggant', tensor(0.6637), (980, 1039, 49, 241)),\n",
       " ('gjk', tensor(0.9945), (982, 1036, 246, 313)),\n",
       " ('wahyu', tensor(0.9993), (982, 1032, 320, 424)),\n",
       " ('GOFOO', tensor(0.9861), (1059, 1116, 673, 780)),\n",
       " ('Paket', tensor(0.9999), (1066, 1120, 48, 152)),\n",
       " ('Geprek', tensor(0.9998), (1068, 1126, 157, 281)),\n",
       " ('Bensu', tensor(0.9999), (1069, 1120, 283, 387)),\n",
       " ('Nasi', tensor(0.9995), (1069, 1120, 394, 471)),\n",
       " ('Daun', tensor(0.9998), (1069, 1116, 481, 565)),\n",
       " ('Jeruk', tensor(0.9994), (1069, 1116, 572, 673)),\n",
       " ('27', tensor(0.9975), (1110, 1160, 787, 834)),\n",
       " ('Level', tensor(0.9845), (1116, 1167, 125, 222)),\n",
       " ('D', tensor(0.9934), (1120, 1160, 51, 81)),\n",
       " ('I', tensor(0.6730), (1123, 1160, 236, 256)),\n",
       " ('X', tensor(0.8183), (1123, 1160, 266, 296)),\n",
       " ('(27', tensor(0.9810), (1160, 1210, 195, 263)),\n",
       " ('Harga', tensor(1.0000), (1163, 1214, 88, 189)),\n",
       " ('t', tensor(0.5064), (1173, 1204, 58, 78)),\n",
       " ('Dada', tensor(0.9999), (1207, 1254, 88, 172)),\n",
       " ('X', tensor(0.9218), (1214, 1251, 179, 209)),\n",
       " ('17.500', tensor(0.8386), (1241, 1291, 787, 908)),\n",
       " ('Original', tensor(0.9989), (1241, 1301, 532, 689)),\n",
       " ('GOFOOD', tensor(0.9986), (1244, 1298, 370, 498)),\n",
       " ('Bensu', tensor(0.9998), (1247, 1298, 269, 370)),\n",
       " ('Ayam', tensor(0.9882), (1251, 1301, 54, 138)),\n",
       " ('Geprek', tensor(0.9999), (1251, 1301, 142, 263)),\n",
       " ('X', tensor(0.9251), (1251, 1291, 696, 726)),\n",
       " ('(17', tensor(0.9848), (1291, 1345, 195, 263)),\n",
       " ('Harga', tensor(1.0000), (1293, 1351, 85, 194)),\n",
       " ('Dada', tensor(0.9999), (1338, 1389, 88, 175)),\n",
       " ('X', tensor(0.9166), (1345, 1385, 179, 209)),\n",
       " ('+', tensor(0.9094), (1352, 1382, 58, 81)),\n",
       " ('4.000', tensor(0.9562), (1375, 1426, 807, 908)),\n",
       " ('Charge', tensor(0.9999), (1380, 1438, 230, 355)),\n",
       " ('Take', tensor(0.9999), (1382, 1432, 58, 138)),\n",
       " ('Away', tensor(0.9999), (1384, 1437, 143, 231)),\n",
       " ('X', tensor(0.8809), (1389, 1426, 357, 390)),\n",
       " ('49.000', tensor(0.6948), (1463, 1513, 790, 911)),\n",
       " ('Subtotal', tensor(0.9988), (1469, 1523, 51, 209)),\n",
       " ('4.500', tensor(0.9441), (1510, 1560, 807, 911)),\n",
       " ('PB1', tensor(0.9708), (1516, 1567, 54, 118)),\n",
       " ('(10%)', tensor(0.9886), (1516, 1567, 128, 229)),\n",
       " ('53,500', tensor(0.7126), (1597, 1647, 790, 911)),\n",
       " ('Total', tensor(0.9979), (1607, 1657, 58, 158)),\n",
       " ('53.500', tensor(0.8583), (1684, 1738, 790, 911)),\n",
       " ('Gobiz', tensor(0.9990), (1692, 1749, 73, 181)),\n",
       " ('Kembal', tensor(0.9943), (1738, 1792, 58, 162)),\n",
       " ('Ii', tensor(0.7184), (1738, 1789, 152, 195)),\n",
       " ('LUNAS', tensor(0.9925), (1825, 1876, 444, 548)),\n",
       " ('*x', tensor(0.5476), (1829, 1869, 552, 602)),\n",
       " ('Kasih', tensor(0.9972), (1910, 1963, 505, 612)),\n",
       " ('Terima', tensor(0.9996), (1913, 1963, 384, 505)),\n",
       " ('POS', tensor(0.9836), (2041, 2094, 622, 693)),\n",
       " ('by', tensor(0.9994), (2047, 2101, 448, 498)),\n",
       " ('Pawoon', tensor(0.9994), (2047, 2098, 498, 622)),\n",
       " ('Powered', tensor(0.9999), (2051, 2101, 303, 444))]"
      ]
     },
     "execution_count": 8,
     "metadata": {},
     "output_type": "execute_result"
    }
   ],
   "source": [
    "engine.raw_output"
   ]
  },
  {
   "cell_type": "code",
   "execution_count": 9,
   "id": "outstanding-munich",
   "metadata": {
    "scrolled": true
   },
   "outputs": [
    {
     "data": {
      "text/plain": [
       "['Geprek Bensu Kopo Bandung',\n",
       " 'J1, Kopo No. 536, Margasuka, Babakan Ciparay',\n",
       " 'KOTA BANDUNG',\n",
       " 'order: 33',\n",
       " 'Kode',\n",
       " 'Tanggal 16-07-2021 11:53:47',\n",
       " 'Kasiri Kasir 1 Kopo BDG',\n",
       " 'Pelanggant gjk wahyu',\n",
       " 'Paket Geprek Bensu Nasi Daun Jeruk GOFOO',\n",
       " 'D Level I X 27',\n",
       " 't Harga (27',\n",
       " 'Dada X',\n",
       " 'Ayam Geprek Bensu GOFOOD Original X 17.500',\n",
       " 'Harga (17',\n",
       " '+ Dada X',\n",
       " 'Take Away Charge X 4.000',\n",
       " 'Subtotal 49.000',\n",
       " 'PB1 (10%) 4.500',\n",
       " 'Total 53,500',\n",
       " 'Gobiz 53.500',\n",
       " 'Kembal Ii',\n",
       " 'LUNAS *x',\n",
       " 'Terima Kasih']"
      ]
     },
     "execution_count": 9,
     "metadata": {},
     "output_type": "execute_result"
    }
   ],
   "source": [
    "engine.result"
   ]
  },
  {
   "cell_type": "code",
   "execution_count": null,
   "id": "narrow-satellite",
   "metadata": {},
   "outputs": [],
   "source": []
  }
 ],
 "metadata": {
  "kernelspec": {
   "display_name": "Python [conda env:receipt-ocr]",
   "language": "python",
   "name": "conda-env-receipt-ocr-py"
  },
  "language_info": {
   "codemirror_mode": {
    "name": "ipython",
    "version": 3
   },
   "file_extension": ".py",
   "mimetype": "text/x-python",
   "name": "python",
   "nbconvert_exporter": "python",
   "pygments_lexer": "ipython3",
   "version": "3.9.7"
  }
 },
 "nbformat": 4,
 "nbformat_minor": 5
}
